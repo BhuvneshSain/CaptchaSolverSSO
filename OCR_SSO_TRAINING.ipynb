{
  "nbformat": 4,
  "nbformat_minor": 0,
  "metadata": {
    "colab": {
      "provenance": [],
      "authorship_tag": "ABX9TyNR2j8yaqVHXQ0yMYp7zfoj",
      "include_colab_link": true
    },
    "kernelspec": {
      "name": "python3",
      "display_name": "Python 3"
    },
    "language_info": {
      "name": "python"
    }
  },
  "cells": [
    {
      "cell_type": "markdown",
      "metadata": {
        "id": "view-in-github",
        "colab_type": "text"
      },
      "source": [
        "<a href=\"https://colab.research.google.com/github/BhuvneshSain/CaptchaSolverSSO/blob/main/OCR_SSO_TRAINING.ipynb\" target=\"_parent\"><img src=\"https://colab.research.google.com/assets/colab-badge.svg\" alt=\"Open In Colab\"/></a>"
      ]
    },
    {
      "cell_type": "code",
      "execution_count": 1,
      "metadata": {
        "id": "BNWG7frqGwzY"
      },
      "outputs": [],
      "source": [
        "# Step 1: Import Libraries and Mount Google Drive\n",
        "\n",
        "import tensorflow as tf\n",
        "from tensorflow import keras\n",
        "from tensorflow.keras import layers\n",
        "from tensorflow.keras.preprocessing.image import ImageDataGenerator\n",
        "from sklearn.model_selection import train_test_split\n",
        "import os"
      ]
    },
    {
      "cell_type": "code",
      "source": [
        "# Step 2: Download and Unzip the Dataset\n",
        "\n",
        "# Define the URL of the ZIP file on GitHub\n",
        "github_raw_url = 'https://github.com/BhuvneshSain/CaptchaSolverSSO/blob/2d55543da5f4943e9ef15b0146295b7c7ba96516/captcha_images.zip'\n",
        "\n",
        "# Define the folder where you want to extract the dataset\n",
        "extracted_folder = './content/dataset_folder'\n",
        "\n",
        "# Download the ZIP file using curl\n",
        "!curl -L -o captcha_images.zip $github_raw_url\n",
        "\n",
        "# Unzip the dataset\n",
        "!unzip -q captcha_images.zip -d $extracted_folder\n",
        "\n",
        "# Verify the contents of the extracted folder\n",
        "!ls $extracted_folder\n"
      ],
      "metadata": {
        "colab": {
          "base_uri": "https://localhost:8080/"
        },
        "id": "3scdxshBHeLz",
        "outputId": "e245c9ba-27fb-4cca-e9c8-cb4ab3c17bad"
      },
      "execution_count": 3,
      "outputs": [
        {
          "output_type": "stream",
          "name": "stdout",
          "text": [
            "  % Total    % Received % Xferd  Average Speed   Time    Time     Time  Current\n",
            "                                 Dload  Upload   Total   Spent    Left  Speed\n",
            "100  4591  100  4591    0     0  12111      0 --:--:-- --:--:-- --:--:-- 12145\n",
            "[captcha_images.zip]\n",
            "  End-of-central-directory signature not found.  Either this file is not\n",
            "  a zipfile, or it constitutes one disk of a multi-part archive.  In the\n",
            "  latter case the central directory and zipfile comment will be found on\n",
            "  the last disk(s) of this archive.\n",
            "unzip:  cannot find zipfile directory in one of captcha_images.zip or\n",
            "        captcha_images.zip.zip, and cannot find captcha_images.zip.ZIP, period.\n",
            "ls: cannot access '/content/dataset_folder': No such file or directory\n"
          ]
        }
      ]
    },
    {
      "cell_type": "code",
      "source": [],
      "metadata": {
        "id": "0eX-OKpZHrxZ"
      },
      "execution_count": null,
      "outputs": []
    }
  ]
}